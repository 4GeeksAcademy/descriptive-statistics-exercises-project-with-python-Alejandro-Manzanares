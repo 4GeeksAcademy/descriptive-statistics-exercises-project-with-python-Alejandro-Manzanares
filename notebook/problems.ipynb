{
    "cells": [
        {
            "cell_type": "markdown",
            "id": "ac622319",
            "metadata": {},
            "source": [
                "# Descriptive statistics problems"
            ]
        },
        {
            "cell_type": "markdown",
            "id": "5e0ab0d5",
            "metadata": {},
            "source": [
                "### Exercise 1\n",
                "\n",
                "We will use NumPy to obtain information to describe statistically.\n",
                "\n",
                "- Generate an array of 100 elements following a normal distribution.\n",
                "- Generate an array of 100 elements following a chi-square distribution with 3 degrees of freedom.\n",
                "- Calculate the main metrics and statistical measures that best describe the two vectors."
            ]
        },
        {
            "cell_type": "code",
            "execution_count": 22,
            "id": "34720ab6",
            "metadata": {},
            "outputs": [
                {
                    "name": "stdout",
                    "output_type": "stream",
                    "text": [
                        "Normal distribution:\n",
                        " [ 0.49671415 -0.1382643   0.64768854  1.52302986 -0.23415337 -0.23413696\n",
                        "  1.57921282  0.76743473 -0.46947439  0.54256004 -0.46341769 -0.46572975\n",
                        "  0.24196227 -1.91328024 -1.72491783 -0.56228753 -1.01283112  0.31424733\n",
                        " -0.90802408 -1.4123037   1.46564877 -0.2257763   0.0675282  -1.42474819\n",
                        " -0.54438272  0.11092259 -1.15099358  0.37569802 -0.60063869 -0.29169375\n",
                        " -0.60170661  1.85227818 -0.01349722 -1.05771093  0.82254491 -1.22084365\n",
                        "  0.2088636  -1.95967012 -1.32818605  0.19686124  0.73846658  0.17136828\n",
                        " -0.11564828 -0.3011037  -1.47852199 -0.71984421 -0.46063877  1.05712223\n",
                        "  0.34361829 -1.76304016  0.32408397 -0.38508228 -0.676922    0.61167629\n",
                        "  1.03099952  0.93128012 -0.83921752 -0.30921238  0.33126343  0.97554513\n",
                        " -0.47917424 -0.18565898 -1.10633497 -1.19620662  0.81252582  1.35624003\n",
                        " -0.07201012  1.0035329   0.36163603 -0.64511975  0.36139561  1.53803657\n",
                        " -0.03582604  1.56464366 -2.6197451   0.8219025   0.08704707 -0.29900735\n",
                        "  0.09176078 -1.98756891 -0.21967189  0.35711257  1.47789404 -0.51827022\n",
                        " -0.8084936  -0.50175704  0.91540212  0.32875111 -0.5297602   0.51326743\n",
                        "  0.09707755  0.96864499 -0.70205309 -0.32766215 -0.39210815 -1.46351495\n",
                        "  0.29612028  0.26105527  0.00511346 -0.23458713]\n",
                        "\n"
                    ]
                }
            ],
            "source": [
                "# TODO\n",
                "\n",
                "#Array of 100 elements followin a normal dist4ribution\n",
                "import numpy as np\n",
                "import random\n",
                "import statistics as stats\n",
                "np.random.seed(42)\n",
                "\n",
                "array_1 = np.random.normal(size=100)\n",
                "print(f\"Normal distribution:\\n {array_1}\\n\")\n"
            ]
        },
        {
            "cell_type": "code",
            "execution_count": 23,
            "id": "9f21eb4f",
            "metadata": {},
            "outputs": [
                {
                    "name": "stdout",
                    "output_type": "stream",
                    "text": [
                        "Chi-square distribution: \n",
                        "[ 0.4168513   1.53749288  2.0019707   3.31954478  2.93509884  2.17617828\n",
                        "  0.15830407  2.27652419  2.46587889 12.72456265  1.94196651  3.04725102\n",
                        "  5.77516859  4.36378602  6.86491387  0.42618426  0.78098785  1.3113313\n",
                        "  0.33084683  2.48460231  0.85740894  7.53845363  1.01734997  1.7044591\n",
                        "  4.56886089  0.55649438  0.29858042  2.75534614  2.9409741   4.4625349\n",
                        "  3.65222252  3.03548985  1.15103525  2.87187902  3.02542952  1.10535719\n",
                        "  9.13003056  3.51390358  0.79761542  4.48007115  5.09450961  3.3434575\n",
                        "  1.84236463  1.05445618  2.17070629  3.15061854  2.36153348  7.09243827\n",
                        "  3.96269904  0.92828493  0.70025868  3.53848141  1.8831237   4.24057767\n",
                        "  3.51221427  2.17951444  0.94044813  0.35233451  2.82705909  0.54422803\n",
                        "  0.89743356  2.68142092  2.4613509   0.63275656  5.54211583  5.43039306\n",
                        "  3.63214678  3.62852305  3.63218282  5.06050325  4.04232775  1.03035801\n",
                        "  1.85822454 11.7557897   0.17754328  1.45511551  5.56483363  1.10410752\n",
                        "  4.1308596   2.43317078  1.18979801  2.75974204  1.00588199  2.09414701\n",
                        "  3.60307013  4.7477682   1.450369    1.18741582  0.531925    4.9308192\n",
                        " 10.57550712  5.34984734  6.2796709   1.11415225  3.42940531  4.43865013\n",
                        "  0.74626305  0.13247338  0.50086102  2.0667793 ]\n"
                    ]
                }
            ],
            "source": [
                "#Chi-square\n",
                "degrees_of_freedom = 3\n",
                "array_2 = np.random.chisquare(degrees_of_freedom,100)\n",
                "print(f\"Chi-square distribution: \\n{array_2}\")"
            ]
        },
        {
            "cell_type": "markdown",
            "id": "9382cacc",
            "metadata": {},
            "source": [
                "MEASURES OF CENTRAL TENDENCY"
            ]
        },
        {
            "cell_type": "markdown",
            "id": "74a10657",
            "metadata": {},
            "source": [
                "Mean"
            ]
        },
        {
            "cell_type": "code",
            "execution_count": 24,
            "id": "33b3d9d8",
            "metadata": {},
            "outputs": [
                {
                    "name": "stdout",
                    "output_type": "stream",
                    "text": [
                        "Normal Mean: -0.10384651739409385\n",
                        "Chi-square: 2.9380795335328225\n"
                    ]
                }
            ],
            "source": [
                "\n",
                "normal_mean = stats.mean(array_1)\n",
                "chi_mean = stats.mean(array_2)\n",
                "print(f\"Normal Mean: {normal_mean}\")\n",
                "print(f\"Chi-square: {chi_mean}\")"
            ]
        },
        {
            "cell_type": "markdown",
            "id": "da24765c",
            "metadata": {},
            "source": [
                "Median"
            ]
        },
        {
            "cell_type": "code",
            "execution_count": 26,
            "id": "009a692a",
            "metadata": {},
            "outputs": [
                {
                    "name": "stdout",
                    "output_type": "stream",
                    "text": [
                        "Normal Median: -0.1269562917797126\n",
                        "Chi Median: 2.4636148965577283\n"
                    ]
                }
            ],
            "source": [
                "normal_mean = stats.median(array_1)\n",
                "chi_median = stats.median(array_2)\n",
                "print(f\"Normal Median: {normal_mean}\")\n",
                "print(f\"Chi Median: {chi_median}\")"
            ]
        },
        {
            "cell_type": "markdown",
            "id": "42f46510",
            "metadata": {},
            "source": [
                "Mode"
            ]
        },
        {
            "cell_type": "code",
            "execution_count": 28,
            "id": "9c4c576c",
            "metadata": {},
            "outputs": [
                {
                    "name": "stdout",
                    "output_type": "stream",
                    "text": [
                        "Normal Mode: 0.4967141530112327\n",
                        "Chi Mode: 0.4168513022813494\n"
                    ]
                }
            ],
            "source": [
                "normal_mode = stats.mode(array_1)\n",
                "chi_mode = stats.mode(array_2)\n",
                "print(f\"Normal Mode: {normal_mode}\")\n",
                "print(f\"Chi Mode: {chi_mode}\")"
            ]
        },
        {
            "cell_type": "markdown",
            "id": "9d722980",
            "metadata": {},
            "source": [
                "MEASURE OF DISPERSION"
            ]
        },
        {
            "cell_type": "markdown",
            "id": "d34db14c",
            "metadata": {},
            "source": [
                "Range"
            ]
        },
        {
            "cell_type": "code",
            "execution_count": 29,
            "id": "d510100c",
            "metadata": {},
            "outputs": [
                {
                    "name": "stdout",
                    "output_type": "stream",
                    "text": [
                        "Normal Range: 4.472023288598682\n",
                        "Chi Range: 12.592089274962756\n",
                        "\n"
                    ]
                }
            ],
            "source": [
                "\n",
                "normal_range = max(array_1) - min(array_1)\n",
                "chi_range = max(array_2) - min(array_2)\n",
                "print(f\"Normal Range: {normal_range}\")\n",
                "print(f\"Chi Range: {chi_range}\\n\")"
            ]
        },
        {
            "cell_type": "markdown",
            "id": "381dd69e",
            "metadata": {},
            "source": [
                "Variance and standard deviation"
            ]
        },
        {
            "cell_type": "code",
            "execution_count": 30,
            "id": "bd492e2b",
            "metadata": {},
            "outputs": [
                {
                    "name": "stdout",
                    "output_type": "stream",
                    "text": [
                        "Normal Variance 0.82476989363016\n",
                        "Chi Variance 5.87576054587392\n",
                        "\n",
                        "Normal Std 0.9081684280078007\n",
                        "Chi Std 2.4239968122656266\n",
                        "\n"
                    ]
                }
            ],
            "source": [
                "normal_variance = stats.variance(array_1)\n",
                "chi_variance = stats.variance(array_2)\n",
                "nomal_std = stats.stdev(array_1)\n",
                "chi_std = stats.stdev(array_2)\n",
                "print(f\"Normal Variance {normal_variance}\")\n",
                "print(f\"Chi Variance {chi_variance}\\n\")\n",
                "print(f\"Normal Std {nomal_std}\")\n",
                "print(f\"Chi Std {chi_std}\\n\")"
            ]
        },
        {
            "cell_type": "markdown",
            "id": "e58050a0",
            "metadata": {},
            "source": [
                "SHAPE MEASURES"
            ]
        },
        {
            "cell_type": "markdown",
            "id": "717c541c",
            "metadata": {},
            "source": [
                "Skewness"
            ]
        },
        {
            "cell_type": "code",
            "execution_count": 31,
            "id": "5d72f511",
            "metadata": {},
            "outputs": [
                {
                    "name": "stdout",
                    "output_type": "stream",
                    "text": [
                        "Normal skewness -0.17526772024433726\n",
                        "Chi skewness 1.6683703423622345\n",
                        "\n"
                    ]
                }
            ],
            "source": [
                "#Skewness\n",
                "from scipy.stats import skew\n",
                "skewness_normal = skew(array_1)\n",
                "skewness_chi = skew(array_2)\n",
                "print(f\"Normal skewness {skewness_normal}\")\n",
                "print(f\"Chi skewness {skewness_chi}\\n\")"
            ]
        },
        {
            "cell_type": "code",
            "execution_count": 12,
            "id": "d6a3422c",
            "metadata": {},
            "outputs": [
                {
                    "name": "stdout",
                    "output_type": "stream",
                    "text": [
                        "Normal kurt -0.48502937437524496\n",
                        "Chi kurt 2.8803760965143193\n"
                    ]
                }
            ],
            "source": [
                "#Kurtosis\n",
                "from scipy.stats import kurtosis\n",
                "kurt_normal = kurtosis(array_1)\n",
                "kurt_chi = kurtosis(array_2)\n",
                "print(f\"Normal kurt {kurt_normal}\")\n",
                "print(f\"Chi kurt {kurt_chi}\")"
            ]
        },
        {
            "cell_type": "markdown",
            "id": "46c70c3d",
            "metadata": {},
            "source": [
                "### Exercise 2\n",
                "\n",
                "Write a Python program to calculate the standard deviation of the following data:\n",
                "\n",
                "```py\n",
                "data = [4, 2, 5, 8, 6]\n",
                "```"
            ]
        },
        {
            "cell_type": "code",
            "execution_count": 4,
            "id": "bbf67fb9",
            "metadata": {},
            "outputs": [
                {
                    "name": "stdout",
                    "output_type": "stream",
                    "text": [
                        "Desviación estándar: 2.23606797749979\n"
                    ]
                }
            ],
            "source": [
                "# TODO\n",
                "#using numpy\n",
                "import numpy as np\n",
                "import math\n",
                "\n",
                "data = [4,2,5,8,6]\n",
                "\n",
                "\n",
                "# Función para calcular la desviación estándar muestral\n",
                "def calcular_desviacion(data):\n",
                "    # Verificar si hay suficientes datos para calcular\n",
                "    if len(data) <= 1:\n",
                "        return 0.0\n",
                "\n",
                "    # Calcular la media directamente en esta función\n",
                "    media = sum(data) / len(data)\n",
                "\n",
                "    # Acumular las diferencias cuadradas respecto a la media\n",
                "    suma_diferencias_cuadradas = 0.0\n",
                "    for valor in data:\n",
                "        diferencia = valor - media\n",
                "        suma_diferencias_cuadradas += diferencia ** 2\n",
                "\n",
                "    # Dividir por n - 1 y calcular la raíz cuadrada para la desviación estándar\n",
                "    desviacion = math.sqrt(suma_diferencias_cuadradas / (len(data) - 1))\n",
                "\n",
                "    return desviacion\n",
                "\n",
                "# Datos de ejemplo\n",
                "data = [4, 2, 5, 8, 6]\n",
                "\n",
                "# Calcular y mostrar la desviación estándar\n",
                "resultado = calcular_desviacion(data)\n",
                "print(\"Desviación estándar:\", resultado)\n"
            ]
        }
    ],
    "metadata": {
        "kernelspec": {
            "display_name": "Python 3",
            "language": "python",
            "name": "python3"
        },
        "language_info": {
            "codemirror_mode": {
                "name": "ipython",
                "version": 3
            },
            "file_extension": ".py",
            "mimetype": "text/x-python",
            "name": "python",
            "nbconvert_exporter": "python",
            "pygments_lexer": "ipython3",
            "version": "3.11.4"
        }
    },
    "nbformat": 4,
    "nbformat_minor": 5
}
